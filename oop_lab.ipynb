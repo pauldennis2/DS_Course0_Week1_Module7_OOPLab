{
 "cells": [
  {
   "cell_type": "markdown",
   "metadata": {},
   "source": [
    "# Object Oriented Programming - Lab"
   ]
  },
  {
   "cell_type": "markdown",
   "metadata": {},
   "source": [
    "## Introduction\n",
    "\n",
    "In this lab, you will apply your knowledge of inheritance in object-oriented programming (OOP) to solve a real-world problem. You will be working on a project for a library management system, where you need to create a class hierarchy to represent different types of library items."
   ]
  },
  {
   "cell_type": "markdown",
   "metadata": {},
   "source": [
    "## Objectives\n",
    "\n",
    "You will be able to:\n",
    "\n",
    "- Define a parent/absract/super class\n",
    "- Define specific attributes and methods\n",
    "- Define child/sub classes using inheritance\n",
    "- Instantiate objects and access/run attributes and methods"
   ]
  },
  {
   "cell_type": "markdown",
   "metadata": {},
   "source": [
    "## Step 1\n",
    "\n",
    "Define the LibraryItem base class and implement the __init__ method. It should set the following attributes:\n",
    "- title: The title of the library item (string)\n",
    "- author: The author of the library item (string)\n",
    "- publication_year: The year the library item was published (integer)\n",
    "- is_available: Indicates if the item is currently available for checkout should default to True (boolean)"
   ]
  },
  {
   "cell_type": "code",
   "execution_count": 42,
   "metadata": {},
   "outputs": [],
   "source": [
    "# CodeGrade step1\n",
    "# Replace none with your code\n",
    "# Define the class and create the __init__ method\n",
    "class LibraryItem():\n",
    "    def __init__(self, title, author, publication_year, is_available=True):\n",
    "        self.title = title\n",
    "        self.author = author\n",
    "        self.publication_year = publication_year\n",
    "        self.is_available = is_available"
   ]
  },
  {
   "cell_type": "markdown",
   "metadata": {},
   "source": [
    "## Step 2\n",
    "\n",
    "Define and implement the following methods within the class. You should copy your completed code from above to start.\n",
    "- display_info: Prints the information/attributes of the object using f-string formatting\n",
    "- checkout: Changes the is_available attribute to False\n",
    "- return_item: Changes the is_available attribute to True"
   ]
  },
  {
   "cell_type": "code",
   "execution_count": 43,
   "metadata": {},
   "outputs": [],
   "source": [
    "# CodeGrade step2\n",
    "# Define and implement the three methods within your class\n",
    "# Copy your init method from step 1\n",
    "class LibraryItem():\n",
    "    def __init__(self, title, author, publication_year, is_available=True):\n",
    "        self.title = title\n",
    "        self.author = author\n",
    "        self.publication_year = publication_year\n",
    "        self.is_available = is_available\n",
    "\n",
    "    def display_info(self):\n",
    "        print(f\"Title: {self.title}, Author: {self.author}, Year: {self.publication_year}, Available:{self.is_available}\")\n",
    "\n",
    "    def checkout(self):\n",
    "        self.is_available = False\n",
    "\n",
    "    def return_item(self):\n",
    "        self.is_available = True"
   ]
  },
  {
   "cell_type": "markdown",
   "metadata": {},
   "source": [
    "## Step 3\n",
    "\n",
    "Create the Book derived class. It should inherit from the LibraryItem class. Implement a new __init__ method to initialize the attributes of the Book instance, calling the base class constructor using super() and adapting to include new attributes. Add the following attributes specific to books:\n",
    "- isbn: The ISBN number of the book (integer)\n",
    "- publisher: The publisher of the book (string)\n",
    "\n",
    "Override the display_info method to display the book-specific information along with the other inherited attributes, you should be using super() here as well."
   ]
  },
  {
   "cell_type": "code",
   "execution_count": 44,
   "metadata": {},
   "outputs": [],
   "source": [
    "# CodeGrade step3\n",
    "# Define new Book class that inherits from LibraryItem\n",
    "# Replace none with your code\n",
    "class Book(LibraryItem):\n",
    "    def __init__(self, title, author, publication_year, isbn, publisher, is_available=True):\n",
    "        super().__init__(title, author, publication_year, is_available)\n",
    "        self.isbn = isbn\n",
    "        self.publisher = publisher\n",
    "    \n",
    "    def display_info(self):\n",
    "        super().display_info()\n",
    "        print(f\"ISBN: {self.isbn}, Publisher: {self.publisher}\")"
   ]
  },
  {
   "cell_type": "markdown",
   "metadata": {},
   "source": [
    "## Step 4\n",
    "\n",
    "Create the Magazine derived class. It should inherit from the LibraryItem class. Implement the __init__ method to initialize the attributes of the Magazine instance, calling the base class constructor using super(). Add the following attributes specific to magazines:\n",
    "- issue_number: The issue number of the magazine (integer)\n",
    "- publication_month: The month of publication of the magazine (string)\n",
    "\n",
    "Override the display_info method to display the magazine-specific information along with the inherited attributes."
   ]
  },
  {
   "cell_type": "code",
   "execution_count": 45,
   "metadata": {},
   "outputs": [],
   "source": [
    "# CodeGrade step4\n",
    "# Define new Magazine class that inherits from LibraryItem\n",
    "# Replace none with your code\n",
    "class Magazine(LibraryItem):\n",
    "    def __init__(self, title, author, publication_year, issue_number, publication_month, is_available=True):\n",
    "        super().__init__(title, author, publication_year, is_available)\n",
    "        self.issue_number = issue_number\n",
    "        self.publication_month = publication_month\n",
    "    \n",
    "    def display_info(self):\n",
    "        super().display_info()\n",
    "        print(f\"Issue Number: {self.issue_number}, Publication Month: {self.publication_month}\")"
   ]
  },
  {
   "cell_type": "markdown",
   "metadata": {},
   "source": [
    "## Step 5\n",
    "\n",
    "Create the DVD derived class. It should inherit from the LibraryItem class. Implement the __init__ method to initialize the attributes of the DVD instance, calling the base class constructor using super(). Add the following attributes specific to DVDs:\n",
    "\n",
    "- duration: The duration of the DVD in minutes (integer)\n",
    "- director: The director of the DVD (string)\n",
    "- genres: A set of genres for the DVD (set)\n",
    "- author: Set author default value to 'N/A'\n",
    "\n",
    "Define a new method specific to the DVD class, add_genre, that takes in a genre string (I.E. 'comedy') and adds it to the existing set. Don't forget to include self."
   ]
  },
  {
   "cell_type": "code",
   "execution_count": 46,
   "metadata": {},
   "outputs": [],
   "source": [
    "# CodeGrade step5\n",
    "# Define new DVD class that inherits from LibraryItem\n",
    "# Replace none with your code\n",
    "class DVD(LibraryItem):\n",
    "    def __init__(self, title, publication_year, duration, director, genres, author=\"N/A\", is_available=True):\n",
    "        super().__init__(title, author, publication_year, is_available)\n",
    "        self.duration = duration\n",
    "        self.director = director\n",
    "        self.genres = set(genres)\n",
    "    \n",
    "    # New method\n",
    "    def add_genre(self, genre):\n",
    "        self.genres.add(genre)"
   ]
  },
  {
   "cell_type": "markdown",
   "metadata": {},
   "source": [
    "## Step 6\n",
    "\n",
    "Test your implemented classes by instantiating different objects with the code below!\n",
    "\n",
    "- Call the display_info method on each instance to verify that the information is displayed correctly.\n",
    "\n",
    "Test the checkout and return_item methods to ensure they update the is_available attribute as expected.\n",
    "\n",
    "Test the add_genre method for your DVD object to ensure it is adding the genre to your set as expected."
   ]
  },
  {
   "cell_type": "code",
   "execution_count": 47,
   "metadata": {},
   "outputs": [],
   "source": [
    "# Run this cell without changes\n",
    "book1 = Book(title='Dracula', author='Bram Stoker', publication_year=1897, \n",
    "             isbn=1000, publisher='Archibald')\n",
    "\n",
    "magazine1 = Magazine(title='Forbes', author='Many', publication_year=2021, \n",
    "                     issue_number=10, publication_month='February')\n",
    "\n",
    "dvd1 = DVD(title='The Matrix', publication_year=1999, duration=136, \n",
    "           director='The Wachowskis', genres={'action', 'sci-fi'})"
   ]
  },
  {
   "cell_type": "code",
   "execution_count": 48,
   "metadata": {},
   "outputs": [
    {
     "name": "stdout",
     "output_type": "stream",
     "text": [
      "Title: Dracula, Author: Bram Stoker, Year: 1897, Available:True\n",
      "ISBN: 1000, Publisher: Archibald\n",
      "Title: Dracula, Author: Bram Stoker, Year: 1897, Available:False\n",
      "ISBN: 1000, Publisher: Archibald\n"
     ]
    }
   ],
   "source": [
    "# Your code here\n",
    "book1.display_info()\n",
    "book1.checkout()\n",
    "book1.display_info()"
   ]
  },
  {
   "cell_type": "code",
   "execution_count": 49,
   "metadata": {},
   "outputs": [
    {
     "name": "stdout",
     "output_type": "stream",
     "text": [
      "Title: Forbes, Author: Many, Year: 2021, Available:True\n",
      "Issue Number: 10, Publication Month: February\n",
      "Title: Forbes, Author: Many, Year: 2021, Available:False\n",
      "Issue Number: 10, Publication Month: February\n"
     ]
    }
   ],
   "source": [
    "# Your code here\n",
    "magazine1.display_info()\n",
    "magazine1.checkout()\n",
    "magazine1.display_info()"
   ]
  },
  {
   "cell_type": "code",
   "execution_count": 50,
   "metadata": {},
   "outputs": [
    {
     "name": "stdout",
     "output_type": "stream",
     "text": [
      "Title: The Matrix, Author: N/A, Year: 1999, Available:True\n",
      "Title: The Matrix, Author: N/A, Year: 1999, Available:False\n",
      "Original Genres: {'sci-fi', 'action'}\n",
      "Genres after adding tragey: {'tragedy', 'sci-fi', 'action'}\n"
     ]
    }
   ],
   "source": [
    "# Your code here\n",
    "dvd1.display_info()\n",
    "dvd1.checkout()\n",
    "dvd1.display_info()\n",
    "print(f\"Original Genres: {dvd1.genres}\")\n",
    "dvd1.add_genre(\"tragedy\")\n",
    "print(f\"Genres after adding tragey: {dvd1.genres}\")"
   ]
  },
  {
   "cell_type": "markdown",
   "metadata": {},
   "source": [
    "## Step 7\n",
    "\n",
    "Evaluate and refine if your code is not producing the desired results above. Review your implementation and consider any potential improvements or additional features that could be added to the library management system. Here are just a few potential examples and thoughts. You do not need to implement any of these for this assessment.\n",
    "\n",
    "- It might make sense in the checkout method to include a check for if the item is currently available or not.\n",
    "- Data validations and string standarization for specific attributes.\n",
    "- Implement a database system to store all of our objects so that we can then search.\n",
    "- How might you handle multiple copies of the same item?\n",
    "\n",
    "Think about how you could further extend the class hierarchy to include more specific item types (e.g., Audiobook, Journal) or add additional methods for searching or sorting library items.\n"
   ]
  }
 ],
 "metadata": {
  "kernelspec": {
   "display_name": "win_c0c1",
   "language": "python",
   "name": "python3"
  },
  "language_info": {
   "codemirror_mode": {
    "name": "ipython",
    "version": 3
   },
   "file_extension": ".py",
   "mimetype": "text/x-python",
   "name": "python",
   "nbconvert_exporter": "python",
   "pygments_lexer": "ipython3",
   "version": "3.12.4"
  }
 },
 "nbformat": 4,
 "nbformat_minor": 4
}
